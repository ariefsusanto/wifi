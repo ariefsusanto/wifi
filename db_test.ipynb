{
 "metadata": {
  "name": ""
 },
 "nbformat": 3,
 "nbformat_minor": 0,
 "worksheets": [
  {
   "cells": [
    {
     "cell_type": "code",
     "collapsed": false,
     "input": [
      "from sqlalchemy import create_engine, Column, String, Float, Integer, func\n",
      "from sqlalchemy.orm import sessionmaker\n",
      "from sqlalchemy.ext.declarative import declarative_base"
     ],
     "language": "python",
     "metadata": {},
     "outputs": [],
     "prompt_number": 11
    },
    {
     "cell_type": "code",
     "collapsed": false,
     "input": [
      "engine = create_engine('postgresql://localhost/HotspotDB', echo=False)\n",
      "Base = declarative_base()"
     ],
     "language": "python",
     "metadata": {},
     "outputs": [],
     "prompt_number": 6
    },
    {
     "cell_type": "code",
     "collapsed": false,
     "input": [
      "class Hotspots(Base):\n",
      "    __tablename__ = \"hotspots\" \n",
      "    \n",
      "    id = Column(Integer, primary_key=True)\n",
      "    name = Column(String)\n",
      "    latitude = Column(Float)\n",
      "    longitude = Column(Float)"
     ],
     "language": "python",
     "metadata": {},
     "outputs": [],
     "prompt_number": 7
    },
    {
     "cell_type": "code",
     "collapsed": false,
     "input": [
      "Session = sessionmaker(bind=engine)\n",
      "session = Session()"
     ],
     "language": "python",
     "metadata": {},
     "outputs": [],
     "prompt_number": 8
    },
    {
     "cell_type": "code",
     "collapsed": false,
     "input": [
      "res = session.query(Hotspots).all()\n",
      "for hotspot in res:\n",
      "    print hotspot.id, hotspot.name, hotspot.latitude, hotspot.longitude"
     ],
     "language": "python",
     "metadata": {},
     "outputs": [
      {
       "output_type": "stream",
       "stream": "stdout",
       "text": [
        "1 Starbucks BIP Bandung -6.908582 107.610663\n"
       ]
      }
     ],
     "prompt_number": 16
    },
    {
     "cell_type": "code",
     "collapsed": false,
     "input": [
      "res = session.query(func.earth_distance(\n",
      "                      func.ll_to_earth(-6.9, 107.6), \n",
      "                      func.ll_to_earth(Hotspots.latitude, Hotspots.longitude))).all()\n",
      "for hotspot in res:\n",
      "    print hotspot"
     ],
     "language": "python",
     "metadata": {},
     "outputs": [
      {
       "output_type": "stream",
       "stream": "stdout",
       "text": [
        "(1517.00758606092,)\n"
       ]
      }
     ],
     "prompt_number": 13
    },
    {
     "cell_type": "code",
     "collapsed": false,
     "input": [
      "import psycopg2\n",
      "import pprint\n",
      "\n",
      "try:\n",
      "    conn = psycopg2.connect(database='HotspotDB', host='localhost')\n",
      "except:\n",
      "    print 'cannot connect to database'\n",
      "    \n",
      "cursor = conn.cursor()\n",
      "query = '''SELECT Hotspots.name, earth_distance(ll_to_earth(-6.9, 107.6), ll_to_earth(Hotspots.latitude, Hotspots.longitude)) \n",
      "           AS distance \n",
      "           FROM Hotspots \n",
      "           ORDER BY distance ASC \n",
      "           LIMIT 5'''\n",
      "cursor.execute(query)\n",
      "records = cursor.fetchall()\n",
      "pprint.pprint(records)"
     ],
     "language": "python",
     "metadata": {},
     "outputs": [
      {
       "output_type": "stream",
       "stream": "stdout",
       "text": [
        "[('Starbucks BIP Bandung', 1517.00758606092)]\n"
       ]
      }
     ],
     "prompt_number": 37
    },
    {
     "cell_type": "code",
     "collapsed": false,
     "input": [],
     "language": "python",
     "metadata": {},
     "outputs": []
    }
   ],
   "metadata": {}
  }
 ]
}